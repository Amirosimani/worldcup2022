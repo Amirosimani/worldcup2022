{
 "cells": [
  {
   "cell_type": "code",
   "execution_count": 1,
   "metadata": {
    "collapsed": false
   },
   "outputs": [],
   "source": [
    "import numpy as np\n",
    "import pandas as pd\n",
    "from sklearn.pipeline import Pipeline\n",
    "from sklearn.preprocessing import normalize\n",
    "from sklearn.model_selection import GridSearchCV\n",
    "\n",
    "\n",
    "\n",
    "import seaborn as sns\n",
    "%matplotlib inline\n",
    "# %load_ext autotime"
   ]
  },
  {
   "cell_type": "markdown",
   "metadata": {},
   "source": [
    "# Prep the data"
   ]
  },
  {
   "cell_type": "code",
   "execution_count": 2,
   "metadata": {},
   "outputs": [],
   "source": [
    "playoff_teams = [\n",
    "    \"Netherlands\",\n",
    "    \"United States\",\n",
    "    \"Argentina\",\n",
    "    \"Australia\",\n",
    "    \"Japan\",\n",
    "    \"Croatia\",\n",
    "    \"South Korea\",\n",
    "    \"Brazil\",\n",
    "    \"France\",\n",
    "    \"Poland\",\n",
    "    \"England\",\n",
    "    \"Senegal\",\n",
    "    \"Morocco\",\n",
    "    \"Spain\",\n",
    "    \"Portugal\",\n",
    "    \"Switzerland\"\n",
    "    ]\n",
    "\n",
    "playoff_matches = [\n",
    "    (\"Netherlands\", \"United States\"),\n",
    "    (\"Argentina\", \"Australia\"),\n",
    "    (\"Japan\", \"Croatia\"),\n",
    "    (\"South Korea\", \"Brazil\"),\n",
    "    (\"France\", \"Poland\"),\n",
    "    (\"England\", \"Senegal\"),\n",
    "    (\"Morocco\", \"Spain\"),\n",
    "    (\"Portugal\", \"Switzerland\")\n",
    "    ]"
   ]
  },
  {
   "cell_type": "code",
   "execution_count": 3,
   "metadata": {},
   "outputs": [],
   "source": [
    "# # data from https://www.kaggle.com/code/sivahemang/fifa-world-2022-analysis-and-prediction\n",
    "# df = pd.read_csv('./archive/results.csv')\n",
    "df = pd.read_csv('./results.csv')"
   ]
  },
  {
   "cell_type": "code",
   "execution_count": 4,
   "metadata": {},
   "outputs": [
    {
     "data": {
      "text/plain": [
       "(888, 9)"
      ]
     },
     "execution_count": 4,
     "metadata": {},
     "output_type": "execute_result"
    }
   ],
   "source": [
    "df[\"date\"] = pd.to_datetime(df[\"date\"])\n",
    "\n",
    "# selec 2022 matches\n",
    "df = df[df[\"date\"] > \"2022-01-01\"]\n",
    "# sort by date\n",
    "df = df.sort_values(by=[\"date\"],ascending=False)\n",
    "df.shape"
   ]
  },
  {
   "cell_type": "code",
   "execution_count": 5,
   "metadata": {},
   "outputs": [],
   "source": [
    "# df.to_csv('./results.csv', index=False)"
   ]
  },
  {
   "cell_type": "code",
   "execution_count": 6,
   "metadata": {},
   "outputs": [
    {
     "data": {
      "text/plain": [
       "(888, 9)"
      ]
     },
     "execution_count": 6,
     "metadata": {},
     "output_type": "execute_result"
    }
   ],
   "source": [
    "df = df.dropna()\n",
    "df = df.reset_index(drop=True)\n",
    "df.shape"
   ]
  },
  {
   "cell_type": "code",
   "execution_count": 7,
   "metadata": {},
   "outputs": [],
   "source": [
    "# get all teams\n",
    "home_teams = df['home_team'].to_list()\n",
    "away_teams = df['away_team'].to_list()\n",
    "\n",
    "all_teams = set(home_teams +away_teams)\n",
    "all_teams = list(all_teams)\n",
    "assert len(all_teams) == 214"
   ]
  },
  {
   "cell_type": "code",
   "execution_count": 8,
   "metadata": {},
   "outputs": [],
   "source": [
    "df['home_team_index'] = df['home_team'].apply(lambda x: all_teams.index(x))\n",
    "df['away_team_index'] = df['away_team'].apply(lambda x: all_teams.index(x))"
   ]
  },
  {
   "cell_type": "code",
   "execution_count": 9,
   "metadata": {},
   "outputs": [],
   "source": [
    "df[\"home_team_indicator\"] = np.where(df[\"home_score\"]>df[\"away_score\"],1,0)\n",
    "df[\"away_team_indicator\"] = np.where(df[\"home_score\"]<df[\"away_score\"],1,0)\n",
    "\n",
    "df = df.fillna(0)"
   ]
  },
  {
   "cell_type": "code",
   "execution_count": 10,
   "metadata": {},
   "outputs": [],
   "source": [
    "df[\"total_score\"] = df[\"home_score\"] + df[\"away_score\"]"
   ]
  },
  {
   "cell_type": "code",
   "execution_count": 11,
   "metadata": {},
   "outputs": [],
   "source": [
    "# home_team_index = df[\"home_team_index\"].to_list()\n",
    "# home_team_index = df[\"away_team_index\"].to_list()\n",
    "\n",
    "# home_score = df[\"home_score\"].values\n",
    "# away_score = df[\"away_score\"].values\n",
    "\n",
    "# home_team_indicator = np.where(a_score>b_score,1,0)\n",
    "# away_team_indicator = np.where(a_score<b_score,1,0)"
   ]
  },
  {
   "cell_type": "code",
   "execution_count": 12,
   "metadata": {},
   "outputs": [],
   "source": [
    "# df = df[[\"home_team_index\", \"home_score\", \"away_team_index\", \"away_score\", \"home_team_indicator\", \"away_team_indicator\"]]\n",
    "# df.head()"
   ]
  },
  {
   "cell_type": "code",
   "execution_count": 13,
   "metadata": {},
   "outputs": [
    {
     "data": {
      "text/plain": [
       "((879, 14), (10, 14))"
      ]
     },
     "execution_count": 13,
     "metadata": {},
     "output_type": "execute_result"
    }
   ],
   "source": [
    "df_test = df.loc[:9,:]\n",
    "df_train = df.loc[9:,:]\n",
    "\n",
    "df_train.shape, df_test.shape"
   ]
  },
  {
   "cell_type": "code",
   "execution_count": 21,
   "metadata": {},
   "outputs": [],
   "source": [
    "def create_input_matrix(df_input, dim=len(all_teams)):\n",
    "    \n",
    "    m = np.zeros((dim, dim))\n",
    "\n",
    "    m[tuple(df_input[\"home_team_index\"]), tuple(df_input[\"home_team_index\"])] = m[tuple(df_input[\"home_team_index\"]), tuple(df_input[\"home_team_index\"])] + df_input[\"home_team_indicator\"] + df_input[\"home_score\"]/(df_input[\"total_score\"])\n",
    "    m[tuple(df_input[\"away_team_index\"]), tuple(df_input[\"away_team_index\"])] = m[tuple(df_input[\"away_team_index\"]), tuple(df_input[\"away_team_index\"])] + df_input[\"away_team_indicator\"] + df_input[\"away_score\"]/(df_input[\"total_score\"])\n",
    "    m[tuple(df_input[\"home_team_index\"]), tuple(df_input[\"away_team_index\"])] = m[tuple(df_input[\"home_team_index\"]), tuple(df_input[\"away_team_index\"])] + df_input[\"away_team_indicator\"] + df_input[\"away_score\"]/(df_input[\"total_score\"])\n",
    "    m[tuple(df_input[\"away_team_index\"]), tuple(df_input[\"home_team_index\"])] = m[tuple(df_input[\"away_team_index\"]), tuple(df_input[\"home_team_index\"])] + df_input[\"home_team_indicator\"] + df_input[\"home_score\"]/(df_input[\"total_score\"])\n",
    "\n",
    "    m[np.isnan(m)] = 0\n",
    "\n",
    "    return m"
   ]
  },
  {
   "cell_type": "markdown",
   "metadata": {},
   "source": [
    "# markov chain"
   ]
  },
  {
   "cell_type": "code",
   "execution_count": 22,
   "metadata": {},
   "outputs": [],
   "source": [
    "M = create_input_matrix(df)"
   ]
  },
  {
   "cell_type": "code",
   "execution_count": 23,
   "metadata": {},
   "outputs": [],
   "source": [
    "M_normalize = normalize(M, norm='l1', axis=1)"
   ]
  },
  {
   "cell_type": "code",
   "execution_count": 24,
   "metadata": {},
   "outputs": [],
   "source": [
    "# function to calculate state at t\n",
    "def update_w(w_0, t):\n",
    "    w_arr = []\n",
    "    w = w_0\n",
    "    for i in range(t):\n",
    "        w = np.dot(w, M_normalize)\n",
    "    w_arr = pd.DataFrame(w.T, index= None, columns = ['score'])\n",
    "    w_arr['team'] = all_teams\n",
    "    return w_arr\n"
   ]
  },
  {
   "cell_type": "code",
   "execution_count": 25,
   "metadata": {},
   "outputs": [],
   "source": [
    "np.random.seed(42)\n",
    "w_0 = np.random.uniform(low=0.0, high=1.0, size=(1,len(all_teams)))\n",
    "w_0 = normalize(w_0, norm='l1')\n",
    "\n",
    "w_10 = update_w(w_0, 10)\n",
    "w_10.columns.name = 't=10'\n",
    "\n",
    "w_100 = update_w(w_0, 100)\n",
    "w_100.columns.name = 't=100'\n",
    "\n",
    "w_1000 = update_w(w_0, 1000)\n",
    "w_1000.columns.name = 't=1000'\n",
    "\n",
    "w_10000 = update_w(w_0, 100000)\n",
    "w_10000.columns.name = 't=10000'"
   ]
  },
  {
   "cell_type": "code",
   "execution_count": 28,
   "metadata": {},
   "outputs": [],
   "source": [
    "w_10000_playoff = w_10000[w_10000['team'].isin(playoff_teams)]"
   ]
  },
  {
   "cell_type": "code",
   "execution_count": 29,
   "metadata": {},
   "outputs": [],
   "source": [
    "w_10000_playoff.sort_values(by='score', ascending=False).to_csv('./predition_3122022_markov.csv')"
   ]
  },
  {
   "cell_type": "markdown",
   "metadata": {},
   "source": [
    "# NMF"
   ]
  },
  {
   "cell_type": "code",
   "execution_count": null,
   "metadata": {},
   "outputs": [],
   "source": [
    "from sklearn.decomposition import NMF\n",
    "from sklearn.metrics import accuracy_score"
   ]
  },
  {
   "cell_type": "code",
   "execution_count": null,
   "metadata": {},
   "outputs": [],
   "source": [
    "len(all_teams)"
   ]
  },
  {
   "cell_type": "code",
   "execution_count": null,
   "metadata": {},
   "outputs": [],
   "source": [
    "def create_input_matrix(df_input, dim=len(all_teams)):\n",
    "    \n",
    "    m = np.zeros((dim, dim))\n",
    "\n",
    "    m[tuple(df_input[\"home_team_index\"]), tuple(df_input[\"home_team_index\"])] = m[tuple(df_input[\"home_team_index\"]), tuple(df_input[\"home_team_index\"])] + df_input[\"home_team_indicator\"] + df_input[\"home_score\"]/(df_input[\"total_score\"])\n",
    "    m[tuple(df_input[\"away_team_index\"]), tuple(df_input[\"away_team_index\"])] = m[tuple(df_input[\"away_team_index\"]), tuple(df_input[\"away_team_index\"])] + df_input[\"away_team_indicator\"] + df_input[\"away_score\"]/(df_input[\"total_score\"])\n",
    "    m[tuple(df_input[\"home_team_index\"]), tuple(df_input[\"away_team_index\"])] = m[tuple(df_input[\"home_team_index\"]), tuple(df_input[\"away_team_index\"])] + df_input[\"away_team_indicator\"] + df_input[\"away_score\"]/(df_input[\"total_score\"])\n",
    "    m[tuple(df_input[\"away_team_index\"]), tuple(df_input[\"home_team_index\"])] = m[tuple(df_input[\"away_team_index\"]), tuple(df_input[\"home_team_index\"])] + df_input[\"home_team_indicator\"] + df_input[\"home_score\"]/(df_input[\"total_score\"])\n",
    "\n",
    "    m[np.isnan(m)] = 0\n",
    "\n",
    "    return m\n",
    "    \n",
    "\n",
    "def matrix_factorization(matrix, n_components):\n",
    "    \n",
    "    model = NMF(n_components=n_components,\n",
    "    #  init='nndsvda',\n",
    "      random_state=0)\n",
    "\n",
    "    W = model.fit_transform(matrix)\n",
    "    H = model.components_\n",
    "\n",
    "    matrix = np.dot(W, H)\n",
    "\n",
    "\n",
    "    return matrix.T\n",
    "\n",
    "\n",
    "def matrix2df(matrix_pred, test, column_mapper=all_teams):\n",
    "\n",
    "    # create NxN dataframe\n",
    "    df_pred = pd.DataFrame(matrix_pred, columns=column_mapper, index=column_mapper)\n",
    "    # keep rows related to the test teams\n",
    "    test_teams = test[\"home_team\"].to_list() + test[\"away_team\"].to_list()\n",
    "    df_pred = df_pred[test_teams].loc[test_teams]\n",
    "    df_pred = df_pred.unstack().reset_index()\n",
    "\n",
    "    df_pred.columns = [\"home_team\", \"away_team\", \"pred_score_normalized\"]\n",
    "\n",
    "    df_pred_1 = df_pred.loc[list(map(lambda x: x in zip(test[\"home_team\"], test[\"away_team\"]), zip(df_pred['home_team'], df_pred['away_team']))),:].reset_index(drop=True)\n",
    "    df_pred_2 = df_pred.loc[list(map(lambda x: x in zip(test[\"away_team\"], test[\"home_team\"]), zip(df_pred['home_team'], df_pred['away_team']))),\"pred_score_normalized\"].reset_index(drop=True)\n",
    "\n",
    "    df_pred = pd.concat([df_pred_1, df_pred_2], axis=1)\n",
    "    df_pred.columns = [\"home_team\", \"away_team\", \"home_pred_score_normalized\", \"away_pred_score_normalized\"]\n",
    "\n",
    "    df_pred[\"pred_home_team_indicator\"] = np.where(df_pred[\"home_pred_score_normalized\"]>df_pred[\"away_pred_score_normalized\"],1,0)\n",
    "    df_pred[\"pred_away_team_indicator\"] = np.where(df_pred[\"home_pred_score_normalized\"]<df_pred[\"away_pred_score_normalized\"],1,0)\n",
    "\n",
    "    return df_pred\n",
    "\n"
   ]
  },
  {
   "cell_type": "code",
   "execution_count": null,
   "metadata": {},
   "outputs": [],
   "source": [
    "m_train = create_input_matrix(df_train)\n",
    "assert m_train.shape == (214, 214)"
   ]
  },
  {
   "cell_type": "code",
   "execution_count": null,
   "metadata": {},
   "outputs": [],
   "source": [
    "acc_result = []\n",
    "for n in range(1,  20):\n",
    "    new_m = matrix_factorization(m_train, n)\n",
    "    df_pred = matrix2df(new_m, df_test)\n",
    "    acc_result.append(accuracy_score(df_test[\"home_team_indicator\"], df_pred[\"pred_home_team_indicator\"]))\n",
    "\n",
    "sns.lineplot(x=range(1,20), y=acc_result)\n",
    "best_n = acc_result.index(max(acc_result))\n",
    "print(best_n)"
   ]
  },
  {
   "cell_type": "code",
   "execution_count": null,
   "metadata": {},
   "outputs": [],
   "source": [
    "m_full = create_input_matrix(df)\n",
    "assert m_full.shape == (214, 214)\n",
    "\n",
    "\n",
    "m_full = matrix_factorization(m_full, best_n)\n"
   ]
  },
  {
   "cell_type": "code",
   "execution_count": null,
   "metadata": {},
   "outputs": [],
   "source": [
    "df_playoffs = pd.DataFrame(playoff_matches, columns=['home_team', \"away_team\"])\n",
    "\n",
    "matrix2df(m_full, df_playoffs).to_csv('./predition_3122022.csv')"
   ]
  },
  {
   "cell_type": "code",
   "execution_count": null,
   "metadata": {},
   "outputs": [],
   "source": [
    "for idx, row in df_test.iterrows():\n",
    "    game = (row[\"home_team\"], row[\"away_team\"])\n",
    "    if row[\"home_team_index\"] > 0:\n",
    "        winner = game[0]\n",
    "    elif row[\"away_team_index\"] > 0:\n",
    "        winner = game[1]\n",
    "\n",
    "    print(f'real data for {game[0]} vs {game[1]}: {row[\"home_score\"]} - {row[\"away_score\"]} for {winner}')\n",
    "\n",
    "    # predicted\n",
    "    pred_home_score = df_result[game[0]].loc[game[1]]\n",
    "    pred_away_score = df_result[game[1]].loc[game[0]]\n",
    "    print(pred_home_score, pred_away_score)\n",
    "\n",
    "    if pred_home_score > pred_away_score:\n",
    "        pred_winner = game[0]\n",
    "        score = pred_home_score\n",
    "    elif pred_home_score < pred_away_score:\n",
    "        pred_winner = game[1]\n",
    "        score = pred_away_score\n",
    "    else:\n",
    "        pred_winner = \"draw\"\n",
    "        score = \"draw\"\n",
    "\n",
    "    print(f\"predicted: {winner}, {score} \\n\\n\")\n",
    "\n",
    "    print()\n",
    "    \n",
    "\n",
    "\n",
    "\n",
    "\n",
    "\n"
   ]
  },
  {
   "cell_type": "code",
   "execution_count": null,
   "metadata": {},
   "outputs": [],
   "source": [
    "    \"\"\"\n",
    "    ax + by = c\n",
    "    dx +ey =f \n",
    "    \"\"\"\n",
    "\n",
    "a = -0.85\n",
    "b = 0.15\n",
    "c = 0\n",
    "d =0.1\n",
    "e = 1.1\n",
    "f = 0\n",
    "A = np.array([[a, b], [d, e]])\n",
    "B = np.array([[c], [f]])\n",
    "print(np.linalg.inv(A) @ B)"
   ]
  },
  {
   "cell_type": "code",
   "execution_count": null,
   "metadata": {},
   "outputs": [],
   "source": [
    "for m, (home, away) in enumerate(matches):\n",
    "    home_score = df_result[home].loc[away]\n",
    "    away_score = df_result[away].loc[home]\n",
    "    # print(home_score, away_score)\n",
    "    if home_score > away_score:\n",
    "        winner = home\n",
    "        score = home_score\n",
    "    elif home_score < away_score:\n",
    "        winner = away\n",
    "        score = away_score\n",
    "    else:\n",
    "        winner = \"draw\"\n",
    "        score = \"draw\"\n",
    "\n",
    "    print(f\"Match: {home} vs {away}------ result: {winner}, {score}\")\n",
    "\n",
    "    \n",
    "\n",
    "\n",
    "\n",
    "\n"
   ]
  },
  {
   "cell_type": "code",
   "execution_count": null,
   "metadata": {},
   "outputs": [],
   "source": [
    "print(df_result[\"Argentina\"].loc[\"Australia\"])\n",
    "print(df_result[\"Argentina\"].loc[\"Australia\"])\n"
   ]
  },
  {
   "cell_type": "code",
   "execution_count": null,
   "metadata": {},
   "outputs": [],
   "source": [
    "df_result[\"Netherlands\"].loc[\"United States\"]"
   ]
  },
  {
   "cell_type": "code",
   "execution_count": null,
   "metadata": {},
   "outputs": [],
   "source": []
  }
 ],
 "metadata": {
  "kernelspec": {
   "display_name": "Python 3.10.4 ('snorkel')",
   "language": "python",
   "name": "python3"
  },
  "language_info": {
   "codemirror_mode": {
    "name": "ipython",
    "version": 3
   },
   "file_extension": ".py",
   "mimetype": "text/x-python",
   "name": "python",
   "nbconvert_exporter": "python",
   "pygments_lexer": "ipython3",
   "version": "3.10.4"
  },
  "vscode": {
   "interpreter": {
    "hash": "c8f3aecebe8d74621b271809faaa0e53f36c46106026cce20b434297c1791edc"
   }
  }
 },
 "nbformat": 4,
 "nbformat_minor": 2
}
